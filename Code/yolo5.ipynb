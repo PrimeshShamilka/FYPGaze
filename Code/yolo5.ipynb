{
 "cells": [
  {
   "cell_type": "code",
   "execution_count": 1,
   "metadata": {},
   "outputs": [
    {
     "name": "stderr",
     "output_type": "stream",
     "text": [
      "/home/shashimal/.local/lib/python3.8/site-packages/skimage/io/manage_plugins.py:23: UserWarning: Your installed pillow version is < 7.1.0. Several security issues (CVE-2020-11538, CVE-2020-10379, CVE-2020-10994, CVE-2020-10177) have been fixed in pillow 7.1.0 or higher. We recommend to upgrade this library.\n",
      "  from .collection import imread_collection_wrapper\n"
     ]
    }
   ],
   "source": [
    "import torch\n",
    "from torch.utils.data import Dataset, DataLoader\n",
    "from torchvision import transforms\n",
    "import torchvision.transforms.functional as TF\n",
    "from torch.autograd import Variable\n",
    "import torch.optim as optim\n",
    "import torch.nn as nn\n",
    "import torch.nn.functional as F\n",
    "from torch.nn import DataParallel\n",
    "\n",
    "\n",
    "import time\n",
    "import os\n",
    "import numpy as np\n",
    "import json\n",
    "import cv2\n",
    "from PIL import Image, ImageOps\n",
    "import random\n",
    "from tqdm import tqdm\n",
    "import operator\n",
    "import itertools\n",
    "from scipy.io import  loadmat\n",
    "import logging\n",
    "\n",
    "from scipy import signal\n",
    "import matplotlib.pyplot as plt\n",
    "\n",
    "\n",
    "import pickle\n",
    "from skimage import io\n",
    "from dataloader import chong_imutils\n",
    "\n",
    "import pandas as pd\n",
    "np.random.seed(1)"
   ]
  },
  {
   "cell_type": "code",
   "execution_count": 2,
   "metadata": {},
   "outputs": [],
   "source": [
    "images_dir = '/home/shashimal/Desktop/gooreal/finalrealdatasetImgsV2/'\n",
    "pickle_path = '/home/shashimal/Desktop/gooreal/oneshotrealhumansNew.pickle'\n",
    "test_images_dir = '/home/shashimal/Desktop/gooreal/finalrealdatasetImgsV2/'\n",
    "test_pickle_path = '/home/shashimal/Desktop/gooreal/testrealhumansNew.pickle'"
   ]
  },
  {
   "cell_type": "code",
   "execution_count": 30,
   "metadata": {},
   "outputs": [],
   "source": [
    "coco_train_image = '/home/shashimal/Desktop/coco/images/train/'\n",
    "coco_train_label = '/home/shashimal/Desktop/coco/labels/train'"
   ]
  },
  {
   "cell_type": "code",
   "execution_count": 3,
   "metadata": {},
   "outputs": [],
   "source": [
    "with open(pickle_path, 'rb') as f:\n",
    "    datas = pickle.load(f) \n"
   ]
  },
  {
   "cell_type": "code",
   "execution_count": 41,
   "metadata": {},
   "outputs": [],
   "source": [
    "for id,data in enumerate(datas):\n",
    "    image_path = data['filename']\n",
    "    image_path = os.path.join(images_dir, image_path)\n",
    "    image_path = image_path.replace('\\\\', '/')\n",
    "    x1 =  int(data['ann']['bboxes'][-1][0])\n",
    "    y1 =  int(data['ann']['bboxes'][-1][1])\n",
    "    x2 =  int(data['ann']['bboxes'][-1][2])\n",
    "    y2 =  int(data['ann']['bboxes'][-1][3])\n",
    "\n",
    "    mid_x = str(round(((x1+x2)/2)/640,5))\n",
    "    mid_y = str(round(((y1+y2)/2)/480,5))\n",
    "    width = str(round((x2-x1)/640,5))\n",
    "    height = str(round((y2-y1)/480,5))\n",
    "\n",
    "    box = (mid_x,mid_y,width,height)\n",
    "    img = cv2.imread(image_path)\n",
    "    img = cv2.resize(img, (640, 480))\n",
    "    cv2.imwrite(coco_train_image+'im'+str(id)+'.png',img)\n",
    "    with open(coco_train_label+'/im'+str(id)+'.txt','w') as fileObj:\n",
    "        fileObj.write(\"0 \"+\" \".join(box))"
   ]
  },
  {
   "cell_type": "code",
   "execution_count": null,
   "metadata": {},
   "outputs": [],
   "source": []
  },
  {
   "cell_type": "code",
   "execution_count": 39,
   "metadata": {},
   "outputs": [
    {
     "name": "stdout",
     "output_type": "stream",
     "text": [
      "[281. 127. 360. 229.]\n",
      "('0.50078', '0.37083', '0.12344', '0.2125')\n"
     ]
    }
   ],
   "source": [
    "print((data['ann']['bboxes'][-1]))\n",
    "x1 =  int(data['ann']['bboxes'][-1][0])\n",
    "y1 =  int(data['ann']['bboxes'][-1][1])\n",
    "x2 =  int(data['ann']['bboxes'][-1][2])\n",
    "y2 =  int(data['ann']['bboxes'][-1][3])\n",
    "\n",
    "mid_x = str(round(((x1+x2)/2)/640,5))\n",
    "mid_y = str(round(((y1+y2)/2)/480,5))\n",
    "width = str(round((x2-x1)/640,5))\n",
    "height = str(round((y2-y1)/480,5))\n",
    "\n",
    "box = (mid_x,mid_y,width,height)\n",
    "print(box)\n",
    "\n",
    "color = (255, 0, 0)\n",
    "  \n",
    "# Line thickness of 2 px\n",
    "thickness = 2\n",
    "  \n",
    "# Using cv2.rectangle() method\n",
    "# Draw a rectangle with blue line borders of thickness of 2 px\n",
    "img = cv2.imread(image_path,0)\n",
    "img = cv2.resize(img, (640, 480))\n",
    "cv2.imwrite(coco_train_image+'im0.png',img)\n",
    "with open(coco_train_label+\"/im0.txt\",'w') as fileObj:\n",
    "    fileObj.write(\"0 \"+\" \".join(box))\n",
    "img = cv2.rectangle(img, (x1,y1), (x2,y2), color, thickness)"
   ]
  },
  {
   "cell_type": "code",
   "execution_count": 5,
   "metadata": {},
   "outputs": [],
   "source": [
    "\n",
    "cv2.imshow('img',img)\n",
    "cv2.waitKey(0)\n",
    "cv2.destroyAllWindows()"
   ]
  }
 ],
 "metadata": {
  "interpreter": {
   "hash": "31f2aee4e71d21fbe5cf8b01ff0e069b9275f58929596ceb00d14d90e3e16cd6"
  },
  "kernelspec": {
   "display_name": "Python 3.8.10 64-bit",
   "name": "python3"
  },
  "language_info": {
   "codemirror_mode": {
    "name": "ipython",
    "version": 3
   },
   "file_extension": ".py",
   "mimetype": "text/x-python",
   "name": "python",
   "nbconvert_exporter": "python",
   "pygments_lexer": "ipython3",
   "version": "3.8.10"
  },
  "orig_nbformat": 4
 },
 "nbformat": 4,
 "nbformat_minor": 2
}